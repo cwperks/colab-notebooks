{
  "nbformat": 4,
  "nbformat_minor": 0,
  "metadata": {
    "kernelspec": {
      "display_name": "Python 3",
      "language": "python",
      "name": "python3"
    },
    "language_info": {
      "codemirror_mode": {
        "name": "ipython",
        "version": 3
      },
      "file_extension": ".py",
      "mimetype": "text/x-python",
      "name": "python",
      "nbconvert_exporter": "python",
      "pygments_lexer": "ipython3",
      "version": "3.8.2"
    },
    "colab": {
      "name": "Introduction to Python.ipynb",
      "provenance": [],
      "include_colab_link": true
    }
  },
  "cells": [
    {
      "cell_type": "markdown",
      "metadata": {
        "id": "view-in-github",
        "colab_type": "text"
      },
      "source": [
        "<a href=\"https://colab.research.google.com/github/cwperks/colab-notebooks/blob/main/Introduction_to_Python.ipynb\" target=\"_parent\"><img src=\"https://colab.research.google.com/assets/colab-badge.svg\" alt=\"Open In Colab\"/></a>"
      ]
    },
    {
      "cell_type": "markdown",
      "metadata": {
        "id": "FXljRtxxXJwI"
      },
      "source": [
        "# Introduction to Jupyter\n",
        "\n",
        "### Keyboard shortcuts\n",
        "\n",
        "- Pres Esc key to enable / disable\n",
        "- Executing cells - Esc, Shft-Enter OR Ctrl-Enter\n",
        "- Adding a cell above Esc, A\n",
        "- Adding a cell below - Esc, B\n",
        "- Delete a cell - Esc, D, D\n",
        "- Copy, Cut, Paste - Ctrl-C, Ctrl-X, Ctrl-V\n",
        "- Undo - Ctrl-Z\n",
        "- Select all - Ctrl-A\n",
        "- Comment Cell - Ctrl-/"
      ]
    },
    {
      "cell_type": "markdown",
      "metadata": {
        "id": "YgDDWWQBXJwK"
      },
      "source": [
        "| ![Screen%20Shot%202019-04-08%20at%209.55.32%20AM.png](attachment:Screen%20Shot%202019-04-08%20at%209.55.32%20AM.png) |\n",
        "|:--:| \n",
        "| *xkcd* |"
      ]
    },
    {
      "cell_type": "markdown",
      "metadata": {
        "id": "2xp52EKmXJwL"
      },
      "source": [
        "# Introduction to Python\n",
        "\n",
        "### Why Learn Python?\n",
        "\n",
        "Python is a general-purpose, versatile and popular programming language. It’s great as a first language because it is concise and easy to read, and it is also a good language to have in any programmer’s stack as it can be used for everything from web development to software development and scientific applications.\n",
        "\n",
        "### What is Python?\n",
        "\n",
        "- Developed by Guido van Rossum in the early 1990s\n",
        "- Named after Monty Python\n",
        "- Interpreted language\n",
        "- Dynamically typed\n",
        "- Indentation instead of braces\n",
        "\n",
        "![Screen%20Shot%202019-04-08%20at%209.50.25%20AM.png](attachment:Screen%20Shot%202019-04-08%20at%209.50.25%20AM.png)\n",
        "\n",
        "### Resources\n",
        "\n",
        "- Python - [https://www.python.org/](https://www.python.org/)\n",
        "- Documentation - [https://docs.python.org/3/](https://docs.python.org/3/)\n",
        "- Anaconda - [https://www.anaconda.com/](https://www.anaconda.com/)\n",
        "- PyPI - [https://pypi.org/](https://pypi.org/)\n",
        "- Udacity: Intro to Python [https://www.udacity.com/course/introduction-to-python--ud1110](https://www.udacity.com/course/introduction-to-python--ud1110)\n",
        "- Codecademy: Learn Python [https://www.codecademy.com/learn/learn-python](https://www.codecademy.com/learn/learn-python)\n",
        "- PEP8: Style Guide - [https://www.python.org/dev/peps/pep-0008/](https://www.python.org/dev/peps/pep-0008/)\n",
        "- Sphinx - [http://www.sphinx-doc.org/en/master/](http://www.sphinx-doc.org/en/master/)\n",
        "\n",
        "### Common Applications\n",
        "\n",
        "- Web Development\n",
        "  - Django and Flask\n",
        "- Data Science including machine learning, data analysis, and data visualization\n",
        "  - Machine Learning: TensorFlow, Keras, scikit-learn, PyTorch\n",
        "  - Data Analysis: NumPy, SciPy and pandas\n",
        "  - Data Visualization: matplotlib, seaborn\n",
        "- Scripting\n",
        "\n",
        "### Companies using Python\n",
        "\n",
        "- Dropbox - [How we rolled out one of the largest Python 3 migrations ever](https://blogs.dropbox.com/tech/2018/09/how-we-rolled-out-one-of-the-largest-python-3-migrations-ever/)\n",
        "- Instagram - [Web Service Efficiency at Instagram with Python](https://instagram-engineering.com/web-service-efficiency-at-instagram-with-python-4976d078e366)\n",
        "- Facebook - [Python in production engineering\n",
        "](https://code.fb.com/production-engineering/python-in-production-engineering/)\n",
        "\n",
        "Steve Huffman - Cofounder of Reddit\n",
        "\n",
        "> There’s a library for everything. We’ve been learning a lot of these technologies and a lot of these architectures\n",
        "> as we go. And, so, when I don’t understand connection pools, I can just find a library until I understand it better\n",
        "> myself and write our own. Don’t understand web frameworks, so we’ll use someone else’s until we make our own…Python\n",
        "> has an awesome crutch like that."
      ]
    },
    {
      "cell_type": "code",
      "metadata": {
        "id": "E2y-Mf0cXJwM"
      },
      "source": [
        "# Type help()\n"
      ],
      "execution_count": null,
      "outputs": []
    },
    {
      "cell_type": "code",
      "metadata": {
        "id": "WRhnzVx_XJwN"
      },
      "source": [
        "# Type print(\"Hello, MSK!\")\n"
      ],
      "execution_count": null,
      "outputs": []
    },
    {
      "cell_type": "markdown",
      "metadata": {
        "id": "YK0X1i0MXJwO"
      },
      "source": [
        "# Variables and Basic Data Types\n",
        "<TODO>"
      ]
    },
    {
      "cell_type": "markdown",
      "metadata": {
        "id": "jB3h1L-wXJwO"
      },
      "source": [
        "### Assignment and Arithmetic"
      ]
    },
    {
      "cell_type": "code",
      "metadata": {
        "id": "hQyiEaw8XJwO"
      },
      "source": [
        "# Assignment\n",
        "x = 5\n",
        "y = 'Foo Bar'\n",
        "z = 4.2\n",
        "a = {}\n",
        "b = set()\n",
        "c = []\n",
        "d = True\n",
        "\n",
        "# Get type of x\n",
        "print(type(x))\n",
        "\n",
        "# Get type of y\n",
        "print(type(y))\n",
        "\n",
        "# Get type of z\n",
        "print(type(z))\n",
        "\n",
        "print(type(a))\n",
        "\n",
        "print(type(b))\n",
        "\n",
        "print(type(c))\n",
        "\n",
        "print(type(d))"
      ],
      "execution_count": null,
      "outputs": []
    },
    {
      "cell_type": "code",
      "metadata": {
        "id": "9HdfemBHXJwP"
      },
      "source": [
        "# Bad Variables\n",
        "0 = \"uh oh\"\n",
        "3_0 = \"this\"\n",
        "a-d = \"won't\"\n",
        "$ = \"work\""
      ],
      "execution_count": null,
      "outputs": []
    },
    {
      "cell_type": "code",
      "metadata": {
        "id": "Cp5lkJHtXJwP"
      },
      "source": [
        "# Arithmetic\n",
        "z = 5\n",
        "prod = x * z\n",
        "\n",
        "print(prod)\n",
        "print(type(prod))"
      ],
      "execution_count": null,
      "outputs": []
    },
    {
      "cell_type": "code",
      "metadata": {
        "id": "uloccZ0IXJwP"
      },
      "source": [
        "# What do you think the answer is\n",
        "div = x / 2\n",
        "\n",
        "print(div)\n",
        "print(type(div))"
      ],
      "execution_count": null,
      "outputs": []
    },
    {
      "cell_type": "code",
      "metadata": {
        "id": "A-dwuz59XJwQ"
      },
      "source": [
        "# Floor division\n",
        "\n",
        "div = x // 2\n",
        "\n",
        "print(div)\n",
        "print(type(div))\n",
        "\n",
        "div = z // 2\n",
        "\n",
        "print(div)\n",
        "print(type(div))"
      ],
      "execution_count": null,
      "outputs": []
    },
    {
      "cell_type": "code",
      "metadata": {
        "id": "CYxwFjseXJwQ"
      },
      "source": [
        "# Exponentiation\n",
        "\n",
        "exp = x ** 2\n",
        "\n",
        "print(exp)"
      ],
      "execution_count": null,
      "outputs": []
    },
    {
      "cell_type": "code",
      "metadata": {
        "id": "O63FB467XJwQ"
      },
      "source": [
        "# Just for fun\n",
        "\n",
        "# Modulus\n",
        "mod = x % 2\n",
        "\n",
        "print(mod)\n",
        "\n",
        "# Complex numbers\n",
        "\n",
        "foo = 1 + 1j\n",
        "bar = 1 - 1j\n",
        "\n",
        "print(type(foo))\n",
        "\n",
        "baz = foo * bar\n",
        "\n",
        "print(baz)\n",
        "print(type(baz))"
      ],
      "execution_count": null,
      "outputs": []
    },
    {
      "cell_type": "markdown",
      "metadata": {
        "id": "PX4s3H_AXJwQ"
      },
      "source": [
        "### Casting and Basic String Operations"
      ]
    },
    {
      "cell_type": "code",
      "metadata": {
        "id": "Bjc-Z6IQXJwR"
      },
      "source": [
        "# Casting\n",
        "\n",
        "foo = int(4.2)\n",
        "\n",
        "print(foo)\n",
        "\n",
        "bar  = int(4.7)\n",
        "\n",
        "print(bar)\n",
        "\n",
        "baz = round(4.7)\n",
        "print(baz)\n",
        "\n",
        "# For other rounding functions like floor and ceiling the math package must be used"
      ],
      "execution_count": null,
      "outputs": []
    },
    {
      "cell_type": "code",
      "metadata": {
        "scrolled": true,
        "id": "_VLNMmfQXJwR"
      },
      "source": [
        "# Basic string operations\n",
        "\n",
        "foo = \"Hello \" + \"World!\"\n",
        "\n",
        "print(foo)\n",
        "\n",
        "bar = foo.split(\" \")\n",
        "\n",
        "print(bar)\n",
        "\n",
        "baz = foo.index(\"ello\")\n",
        "\n",
        "print(baz)"
      ],
      "execution_count": null,
      "outputs": []
    },
    {
      "cell_type": "code",
      "metadata": {
        "id": "yUXbC6cZXJwR"
      },
      "source": [
        "# Be aware of \" vs ' vs '''\n",
        "bad_string = 'This string's going to have a problem'\n",
        "good_string = \"This string isn't\"\n",
        "maybe_even_better_string = '''Wow, \"this\" can't be possible... yes it can'''"
      ],
      "execution_count": null,
      "outputs": []
    },
    {
      "cell_type": "code",
      "metadata": {
        "id": "l1CbfgfQXJwR"
      },
      "source": [
        "# Using Variables in strings\n",
        "my_name = \"Zach\"\n",
        "s1 = \"Hello World, my name is \" + my_name\n",
        "print(s1)\n",
        "\n",
        "s2 = \"Hello World, my name is {}\".format(my_name)\n",
        "print(s2)\n",
        "\n",
        "s3 = \"Hello World, my name is {1}\".format(\"Joe\",\"Zach\")\n",
        "print(s3)\n",
        "\n",
        "s4 = f\"Hello World, my name is {my_name}\"\n",
        "print(s4)"
      ],
      "execution_count": null,
      "outputs": []
    },
    {
      "cell_type": "markdown",
      "metadata": {
        "id": "U81M8LlvXJwS"
      },
      "source": [
        "# Control Statements"
      ]
    },
    {
      "cell_type": "code",
      "metadata": {
        "id": "XWYCctsAXJwS"
      },
      "source": [
        "# Conditional Statements\n",
        "\n",
        "x = 5\n",
        "\n",
        "if x > 2:\n",
        "    print(\"x is greater than 2\")\n",
        "elif x > 0 and x <= 2:\n",
        "    print(\"x is greater than 0 but less than or equal to 2\")\n",
        "else:\n",
        "    print(\"x is less than or equal to 0\")\n",
        "    \n",
        "\n",
        "print(0 < x < 6)"
      ],
      "execution_count": null,
      "outputs": []
    },
    {
      "cell_type": "markdown",
      "metadata": {
        "id": "R3juPJmIXJwS"
      },
      "source": [
        "### Boolean Operators\n",
        "\n",
        "- and\n",
        "- or\n",
        "- not\n",
        "- in\n",
        "- is\n",
        "\n",
        "In python a null value has value None. "
      ]
    },
    {
      "cell_type": "code",
      "metadata": {
        "id": "r4PQiK8QXJwS"
      },
      "source": [
        "foo = True and True\n",
        "\n",
        "print(foo)\n",
        "\n",
        "foo = True and False\n",
        "\n",
        "print(foo)\n",
        "\n",
        "foo = True or False\n",
        "print(foo)"
      ],
      "execution_count": null,
      "outputs": []
    },
    {
      "cell_type": "code",
      "metadata": {
        "id": "WAxPkVfGXJwT"
      },
      "source": [
        "foo = 1 in [1, 2, 3]\n",
        "\n",
        "print(foo)\n",
        "\n",
        "foo = 1 not in [1, 2, 3]\n",
        "\n",
        "print(foo)\n",
        "\n",
        "foo = \"1\" in [1, 2, 3]\n",
        "\n",
        "print(foo)"
      ],
      "execution_count": null,
      "outputs": []
    },
    {
      "cell_type": "code",
      "metadata": {
        "id": "182JWNd8XJwT"
      },
      "source": [
        "# What is Truth-y and what is False-y\n",
        "\n",
        "foo = []\n",
        "\n",
        "if foo:\n",
        "    print(\"I am empty!\")\n",
        "    \n",
        "foo = [1]\n",
        "if foo:\n",
        "    print(\"I have data\")\n",
        "    \n",
        "bar = {}\n",
        "if bar:\n",
        "    print(\"I am an empty dictionary\")\n",
        "    \n",
        "bar[\"a\"] = \"b\"\n",
        "if bar:\n",
        "    print(\"I am a dictionary with data\")"
      ],
      "execution_count": null,
      "outputs": []
    },
    {
      "cell_type": "markdown",
      "metadata": {
        "id": "IE8773cRXJwT"
      },
      "source": [
        "# Data Structures"
      ]
    },
    {
      "cell_type": "markdown",
      "metadata": {
        "id": "i2L-AeHIXJwT"
      },
      "source": [
        "### Lists"
      ]
    },
    {
      "cell_type": "code",
      "metadata": {
        "id": "HlM8RBOkXJwT"
      },
      "source": [
        "# A list is an ordered list of items\n",
        "\n",
        "# Basic Operations\n",
        "\n",
        "foo = [1, 2]\n",
        "bar = [4, 5]\n",
        "\n",
        "foo.append(3)\n",
        "\n",
        "print(foo)\n",
        "\n",
        "foo += bar\n",
        "\n",
        "print(foo)\n",
        "\n",
        "# Slicing \n",
        "# list[start:stop:step]\n",
        "\n",
        "print(\"\\nSlicing\\n\")\n",
        "\n",
        "baz = list(range(10))\n",
        "\n",
        "print(baz)\n",
        "print(baz[3:5])\n",
        "print(baz[::2])\n",
        "\n",
        "\n",
        "# Reverse\n",
        "print(baz[::-1])\n"
      ],
      "execution_count": null,
      "outputs": []
    },
    {
      "cell_type": "code",
      "metadata": {
        "id": "2fijWMA5XJwT"
      },
      "source": [
        "# Tuples are lists that cannot change\n",
        "\n",
        "point = (0, 5)\n",
        "\n",
        "print(point[0])\n",
        "\n",
        "print(point[1])\n",
        "\n",
        "print(point)\n",
        "\n",
        "print(type(point))"
      ],
      "execution_count": null,
      "outputs": []
    },
    {
      "cell_type": "markdown",
      "metadata": {
        "id": "93gX4HYdXJwU"
      },
      "source": [
        "### Sets"
      ]
    },
    {
      "cell_type": "code",
      "metadata": {
        "id": "7pPgxfdnXJwU"
      },
      "source": [
        "# Sets contain only unique elements and are unordered\n",
        "\n",
        "foo = set()\n",
        "\n",
        "foo.add(5)\n",
        "\n",
        "print(foo)\n",
        "\n",
        "foo.add(5)\n",
        "foo.add(6)\n",
        "\n",
        "print(foo)"
      ],
      "execution_count": null,
      "outputs": []
    },
    {
      "cell_type": "markdown",
      "metadata": {
        "id": "6x7i1r7ZXJwU"
      },
      "source": [
        "### Dictionaries"
      ]
    },
    {
      "cell_type": "code",
      "metadata": {
        "id": "BAr2DqWAXJwU"
      },
      "source": [
        "# Dictionaries in python are a key value store\n",
        "\n",
        "foo = {}\n",
        "\n",
        "foo['bar'] = 'baz'\n",
        "\n",
        "print(foo)\n",
        "\n",
        "print(foo.keys())\n",
        "\n",
        "print(foo.values())\n",
        "\n",
        "# print(foo[\"buzz\"])\n",
        "\n",
        "print(foo.get(\"buzz\"))"
      ],
      "execution_count": null,
      "outputs": []
    },
    {
      "cell_type": "markdown",
      "metadata": {
        "id": "qF9Kyo7iXJwU"
      },
      "source": [
        "# Loops"
      ]
    },
    {
      "cell_type": "code",
      "metadata": {
        "id": "HhOGSjWzXJwU"
      },
      "source": [
        "print(\"For\\n\")\n",
        "\n",
        "for i in range(10):\n",
        "    print(i)\n",
        "    \n",
        "\n",
        "print(\"\\nWhile\\n\")\n",
        "\n",
        "i = 0\n",
        "while i < 10:\n",
        "    print(i)\n",
        "    i += 1"
      ],
      "execution_count": null,
      "outputs": []
    },
    {
      "cell_type": "markdown",
      "metadata": {
        "id": "qybNpuPaXJwV"
      },
      "source": [
        "# Being 'Pythonic' with List Comprehension\n"
      ]
    },
    {
      "cell_type": "code",
      "metadata": {
        "id": "hqLrqGIsXJwV"
      },
      "source": [
        "my_list = list(range(10))\n",
        "print(my_list)\n",
        "\n",
        "my_new_list = []\n",
        "for element in my_list:\n",
        "    my_new_list.append(element**2)\n",
        "print(my_new_list)\n",
        "\n",
        "my_new_list_with_list_comprehension = [i**2 for i in my_list]\n",
        "print(my_new_list)"
      ],
      "execution_count": null,
      "outputs": []
    },
    {
      "cell_type": "markdown",
      "metadata": {
        "id": "AqMEaicFXJwV"
      },
      "source": [
        "# Functions\n",
        "<TODO>"
      ]
    },
    {
      "cell_type": "code",
      "metadata": {
        "id": "cmrr9s6zXJwV"
      },
      "source": [
        "def add_numbers(x, y):\n",
        "    return x + y\n",
        "\n",
        "def add_all_numbers(*args):\n",
        "    if args is None:\n",
        "        return 0\n",
        "    total = 0\n",
        "    for i in args:\n",
        "        total += i\n",
        "    return total\n",
        "\n",
        "def perform_operation(a, b, operator='+'):\n",
        "    if operator == '+':\n",
        "        return a + b\n",
        "    elif operator == '-':\n",
        "        return a - b\n",
        "\n",
        "\n",
        "print(add_numbers(3, 4))\n",
        "\n",
        "print(add_all_numbers(1, 2, 3))\n",
        "\n",
        "print(perform_operation(4, 3))\n",
        "print(perform_operation(4, 3, operator='-'))"
      ],
      "execution_count": null,
      "outputs": []
    },
    {
      "cell_type": "markdown",
      "metadata": {
        "id": "2uDs3Ft8XJwV"
      },
      "source": [
        "# Comments / Documenting\n",
        "<TODO>"
      ]
    },
    {
      "cell_type": "code",
      "metadata": {
        "id": "Ybh6xOGiXJwV"
      },
      "source": [
        "# I am a comment\n",
        "\n",
        "\"\"\"\n",
        "I \n",
        "am\n",
        "a\n",
        "multi-line\n",
        "comment\n",
        "\"\"\""
      ],
      "execution_count": null,
      "outputs": []
    },
    {
      "cell_type": "code",
      "metadata": {
        "id": "49I0X0grXJwW"
      },
      "source": [
        "# NumPy Docstring\n",
        "\n",
        "\"\"\"\n",
        "My numpydoc description of a kind\n",
        "of very exhautive numpydoc format docstring.\n",
        "\n",
        "Parameters\n",
        "----------\n",
        "first : array_like\n",
        "    the 1st param name `first`\n",
        "second :\n",
        "    the 2nd param\n",
        "third : {'value', 'other'}, optional\n",
        "    the 3rd param, by default 'value'\n",
        "\n",
        "Returns\n",
        "-------\n",
        "string\n",
        "    a value in a string\n",
        "\n",
        "Raises\n",
        "------\n",
        "KeyError\n",
        "    when a key error\n",
        "OtherError\n",
        "    when an other error\n",
        "\"\"\""
      ],
      "execution_count": null,
      "outputs": []
    },
    {
      "cell_type": "markdown",
      "metadata": {
        "id": "vRY7u5bXXJwW"
      },
      "source": [
        "# Import packages"
      ]
    },
    {
      "cell_type": "code",
      "metadata": {
        "id": "gH_yDpmvXJwW"
      },
      "source": [
        "import math\n",
        "\n",
        "print(math.ceil(4.2))\n",
        "\n",
        "print(math.floor(4.7))\n",
        "\n",
        "\n",
        "# Use pip to install other packages"
      ],
      "execution_count": null,
      "outputs": []
    },
    {
      "cell_type": "markdown",
      "metadata": {
        "id": "RNM36oJ6XJwW"
      },
      "source": [
        "# Input"
      ]
    },
    {
      "cell_type": "code",
      "metadata": {
        "id": "ipUqQAzwXJwW"
      },
      "source": [
        "def add_numbers(a, b):\n",
        "    return a + b\n",
        "\n",
        "a = input('a = ')\n",
        "\n",
        "b = input('b = ')\n",
        "\n",
        "print(add_numbers(a, b))"
      ],
      "execution_count": null,
      "outputs": []
    },
    {
      "cell_type": "markdown",
      "metadata": {
        "id": "5_B1mgSuXJwW"
      },
      "source": [
        "# Export Your Script\n",
        "\n",
        "File -> Download As -> Python (.py)"
      ]
    },
    {
      "cell_type": "markdown",
      "metadata": {
        "id": "029asP5dXJwX"
      },
      "source": [
        "# Next Steps\n",
        "\n",
        "Take our next course!"
      ]
    }
  ]
}